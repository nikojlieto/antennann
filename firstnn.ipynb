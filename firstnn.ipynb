{
  "nbformat": 4,
  "nbformat_minor": 0,
  "metadata": {
    "colab": {
      "provenance": [],
      "authorship_tag": "ABX9TyOHrHtI3SxGC770K7MXC4Ff",
      "include_colab_link": true
    },
    "kernelspec": {
      "name": "python3",
      "display_name": "Python 3"
    },
    "language_info": {
      "name": "python"
    }
  },
  "cells": [
    {
      "cell_type": "markdown",
      "metadata": {
        "id": "view-in-github",
        "colab_type": "text"
      },
      "source": [
        "<a href=\"https://colab.research.google.com/github/nikojlieto/antennann/blob/main/firstnn.ipynb\" target=\"_parent\"><img src=\"https://colab.research.google.com/assets/colab-badge.svg\" alt=\"Open In Colab\"/></a>"
      ]
    },
    {
      "cell_type": "code",
      "execution_count": null,
      "metadata": {
        "id": "gZ88XvNjBvQR"
      },
      "outputs": [],
      "source": [
        "import torch\n",
        "import torch.nn as nn\n",
        "#helps move data forwards in the function\n",
        "import torch.nn.functional as F\n",
        "import tensorflow as tf"
      ]
    },
    {
      "cell_type": "code",
      "source": [
        "#model class inherits nn.Module\n",
        "class Model(nn.Module):\n",
        "  #input layer (antennastate, prxetc, phaserads)\n",
        "  #hidden layer 1 (some neurons)\n",
        "  #hidden layer 2 (some neurons)\n",
        "  #output (x and y)\n",
        "  def __init__(self, output_features = 1, input_features=3, l1 = 9, l2 = 10):\n",
        "    #instantiate nn.module\n",
        "    super().__init__()\n",
        "    out_x = 0\n",
        "    out_y = 0\n",
        "    #fc = fully connected\n",
        "    self.fc1 = nn.Linear(3, l1)\n",
        "    self.fc2 = nn.Linear(l1, l2)\n",
        "    self.out1 = nn.Linear(l2, output_features)\n",
        "    self.out2 = nn.Linear(l2, output_features)\n",
        "\n",
        "    #training data labels - mark categories with likelihood percents\n",
        "    #argmax(label) = category with most likelihood\n",
        "    #for no categories feed in x and y coordinates for each sample\n",
        "\n",
        "\n",
        "  def forward(self, x):\n",
        "    #relu = rectified linear unit\n",
        "    #if output < 0, correct to zero\n",
        "    #x = F.relu(self.fc1(x))\n",
        "    x = self.fc1(x)\n",
        "    x = self.fc2(x)\n",
        "    x1 = self.out1(x)\n",
        "    x2 = self.out2(x)\n",
        "    return x1, x2"
      ],
      "metadata": {
        "id": "bVHTmczSClIP"
      },
      "execution_count": null,
      "outputs": []
    },
    {
      "cell_type": "code",
      "source": [
        "#manual seed for randomization\n",
        "torch.manual_seed(4)\n",
        "#create an instance of model\n",
        "model = Model()"
      ],
      "metadata": {
        "id": "aXFeDto2gItr"
      },
      "execution_count": null,
      "outputs": []
    },
    {
      "cell_type": "code",
      "source": [
        "import pandas as pd\n",
        "import numpy as np\n",
        "import matplotlib.pyplot as plt\n",
        "%matplotlib inline"
      ],
      "metadata": {
        "id": "_fbffIXu3jxJ"
      },
      "execution_count": null,
      "outputs": []
    },
    {
      "cell_type": "code",
      "source": [
        "githuburl = 'https://github.com/nikojlieto/firstnn/raw/main/Autofilled%20Placement.csv'\n",
        "#githuburl.encode('utf-8').strip()\n",
        "my_df = pd.read_csv(githuburl)\n"
      ],
      "metadata": {
        "id": "TQy2n3im3sOb"
      },
      "execution_count": null,
      "outputs": []
    },
    {
      "cell_type": "code",
      "source": [
        "#split for training - X = features, y = outcome\n",
        "X = my_df[['antennastate', 'prxetc', 'phaserads']]\n",
        "y = my_df[['x', 'y']]"
      ],
      "metadata": {
        "id": "5r5KeBnpEmHi"
      },
      "execution_count": null,
      "outputs": []
    },
    {
      "cell_type": "code",
      "source": [
        "#conversion to numpy arrays\n",
        "X = X.values\n",
        "y = y.values"
      ],
      "metadata": {
        "id": "NL61P1QiFqMo"
      },
      "execution_count": null,
      "outputs": []
    },
    {
      "cell_type": "code",
      "source": [
        "from sklearn.model_selection import train_test_split"
      ],
      "metadata": {
        "id": "Vz6IB-mAF9z-"
      },
      "execution_count": null,
      "outputs": []
    },
    {
      "cell_type": "code",
      "source": [
        "#train test split\n",
        "X_train, X_test, y_train, y_test = train_test_split(X, y, test_size = 0.2, random_state =4)"
      ],
      "metadata": {
        "id": "9ja-rmmpGCXh"
      },
      "execution_count": null,
      "outputs": []
    },
    {
      "cell_type": "code",
      "source": [
        "X_train = torch.FloatTensor(X_train)\n",
        "X_test = torch.FloatTensor(X_test)\n",
        "X_train.shape"
      ],
      "metadata": {
        "id": "cJ8Zjnvup7_U",
        "colab": {
          "base_uri": "https://localhost:8080/"
        },
        "outputId": "672e253c-4ac2-4cea-f180-097235072109"
      },
      "execution_count": null,
      "outputs": [
        {
          "output_type": "execute_result",
          "data": {
            "text/plain": [
              "torch.Size([4685, 3])"
            ]
          },
          "metadata": {},
          "execution_count": 11
        }
      ]
    },
    {
      "cell_type": "code",
      "source": [
        "y_train = torch.FloatTensor(y_train)\n",
        "y_test = torch.FloatTensor(y_test)\n",
        "y_train.shape"
      ],
      "metadata": {
        "id": "BkydEjUBqZEF",
        "colab": {
          "base_uri": "https://localhost:8080/"
        },
        "outputId": "1a84d3af-1f2f-4628-9b79-87dfedab60ee"
      },
      "execution_count": null,
      "outputs": [
        {
          "output_type": "execute_result",
          "data": {
            "text/plain": [
              "torch.Size([4685, 2])"
            ]
          },
          "metadata": {},
          "execution_count": 12
        }
      ]
    },
    {
      "cell_type": "code",
      "source": [
        "#set criterion of model to measure the error\n",
        "criterion = nn.L1Loss()\n",
        "#choose optimizer, lr = learning rate\n",
        "optimizer = torch.optim.Adam(model.parameters(), lr=0.01)"
      ],
      "metadata": {
        "id": "PbYlrgS1qoSP"
      },
      "execution_count": null,
      "outputs": []
    },
    {
      "cell_type": "code",
      "source": [
        "#train model time oogie\n",
        "#epoch - one run through of data\n",
        "epochs = 100\n",
        "#keep track of losses too\n",
        "losses = []\n",
        "#this should be a tensor instead of a tuple\n",
        "#why is a single value being returned?\n",
        "\n",
        "for i in range(100):\n",
        "  #go forwards please\n",
        "  #get predicted results here\n",
        "  y_pred = model(X_train)\n",
        "  #reformat from tuple\n",
        "  y_pred = torch.stack([y_pred[0], y_pred[1]], axis=1)\n",
        "  y_pred = torch.squeeze(y_pred)\n",
        "  #measure the loss\n",
        "  loss = criterion(y_pred, y_train)\n",
        "  #to keep track\n",
        "  losses.append(loss.detach().numpy())\n",
        "  #print every 10 epoch\n",
        "  if i%10 == 0:\n",
        "    print(f'Epoch: {i} and loss: {loss}')\n",
        "  #back propagation\n",
        "  optimizer.zero_grad()\n",
        "  loss.backward()\n",
        "  optimizer.step()\n",
        "\n"
      ],
      "metadata": {
        "colab": {
          "base_uri": "https://localhost:8080/"
        },
        "id": "4_9-Smhkrr4e",
        "outputId": "6d7cec59-7096-4545-d427-23abbb71efee"
      },
      "execution_count": null,
      "outputs": [
        {
          "output_type": "stream",
          "name": "stdout",
          "text": [
            "Epoch: 0 and loss: 0.9334233403205872\n",
            "Epoch: 10 and loss: 0.41278713941574097\n",
            "Epoch: 20 and loss: 0.3223509192466736\n",
            "Epoch: 30 and loss: 0.28405895829200745\n",
            "Epoch: 40 and loss: 0.2581321895122528\n",
            "Epoch: 50 and loss: 0.23147915303707123\n",
            "Epoch: 60 and loss: 0.2045806497335434\n",
            "Epoch: 70 and loss: 0.17416398227214813\n",
            "Epoch: 80 and loss: 0.15470436215400696\n",
            "Epoch: 90 and loss: 0.1395118534564972\n"
          ]
        }
      ]
    }
  ]
}