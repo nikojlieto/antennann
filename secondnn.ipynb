{
  "nbformat": 4,
  "nbformat_minor": 0,
  "metadata": {
    "colab": {
      "provenance": []
    },
    "kernelspec": {
      "name": "python3",
      "display_name": "Python 3"
    },
    "language_info": {
      "name": "python"
    }
  },
  "cells": [
    {
      "cell_type": "code",
      "source": [
        "import torch\n",
        "import torch.nn as nn\n",
        "import torch.nn.functional as F\n",
        "import pandas as pd\n",
        "import numpy as np\n",
        "from sklearn.model_selection import train_test_split"
      ],
      "metadata": {
        "id": "kVXdSXdNZS42"
      },
      "execution_count": null,
      "outputs": []
    },
    {
      "cell_type": "code",
      "source": [
        "#convolutional model\n",
        "class ConvModel(nn.Module):\n",
        "    def __init__(self, output_features=1, input_channels=1, conv_out_channels=16, kernel_size=3, input_size=28):\n",
        "        super(ConvModel, self).__init__()\n",
        "        # Convolutional layer\n",
        "        self.conv1 = nn.Conv1d(input_channels, conv_out_channels, kernel_size=kernel_size)\n",
        "        # Calculate the size after convolution (simplified calculation assuming stride=1 and padding=0)\n",
        "        conv_output_size = input_size - kernel_size + 1\n",
        "        # Fully connected layer after flattening the conv output\n",
        "        self.fc1 = nn.Linear(conv_out_channels * (conv_output_size ** 2), output_features)\n",
        "\n",
        "    def forward(self, x):\n",
        "        # Apply convolution\n",
        "        x = F.relu(self.conv1(x))\n",
        "        # Flatten the output for the fully connected layer\n",
        "        x = x.view(x.size(0), -1)\n",
        "        # Output layer\n",
        "        x = self.fc1(x)\n",
        "        return x"
      ],
      "metadata": {
        "id": "xDsGbeH7ZgxB"
      },
      "execution_count": null,
      "outputs": []
    },
    {
      "cell_type": "code",
      "source": [
        "#pure linear model\n",
        "class LinearModel(nn.Module):\n",
        "    def __init__(self, output_features=1, input_features=2, l1=9, l2=10, l3=15, l4=12):\n",
        "        super(LinearModel, self).__init__()\n",
        "\n",
        "        self.fc1 = nn.Linear(input_features, l1)\n",
        "        self.fc2 = nn.Linear(l1, l2)\n",
        "        self.fc3 = nn.Linear(l2, l3)\n",
        "        self.fc4 = nn.Linear(l3, l4)\n",
        "\n",
        "        self.out1 = nn.Linear(l4, output_features)\n",
        "\n",
        "    def forward(self, x):\n",
        "        x = F.relu(self.fc1(x))\n",
        "        x = F.relu(self.fc2(x))\n",
        "        x = F.relu(self.fc3(x))\n",
        "        x = F.relu(self.fc4(x))\n",
        "\n",
        "        x = self.out1(x)\n",
        "        return x"
      ],
      "metadata": {
        "id": "yjftuZ-8sLqk"
      },
      "execution_count": null,
      "outputs": []
    },
    {
      "cell_type": "code",
      "source": [
        "#Load data\n",
        "githuburl = \"https://github.com/nikojlieto/antennann/raw/main/data/5tags-circle-antennasweep%20(calculations%20included).csv\"\n",
        "my_df = pd.read_csv(githuburl)"
      ],
      "metadata": {
        "id": "_bNaOIT8Zpu-"
      },
      "execution_count": null,
      "outputs": []
    },
    {
      "cell_type": "code",
      "source": [
        "list(my_df.columns)"
      ],
      "metadata": {
        "id": "vOZPv3fVnlz1"
      },
      "execution_count": null,
      "outputs": []
    },
    {
      "cell_type": "code",
      "source": [
        "#Data preparation\n",
        "input_columns = ['phase (radians)', 'prx deoscillated moving parts ()', 'doppler ()']\n",
        "X = my_df[input_columns].values\n",
        "output_columns = ['New R from Prx']\n",
        "y = my_df[output_columns].values\n",
        "\n",
        "X_train, X_test, y_train, y_test = train_test_split(X, y, test_size=0.3, random_state=4)\n",
        "\n",
        "X_train = torch.FloatTensor(X_train)\n",
        "X_test = torch.FloatTensor(X_test)\n",
        "y_train = torch.FloatTensor(y_train)\n",
        "y_test = torch.FloatTensor(y_test)"
      ],
      "metadata": {
        "id": "-F739YU8Zr57"
      },
      "execution_count": null,
      "outputs": []
    },
    {
      "cell_type": "code",
      "source": [
        "#Model instantiation\n",
        "model_type = \"Linear\"\n",
        "if model_type == \"Linear\":\n",
        "    model = LinearModel(output_features=1, input_features=len(input_columns))\n",
        "if model_type == \"Conv\":\n",
        "    model = ConvModel(output_features=1, input_channels=len(input_columns))\n",
        "criterion = nn.MSELoss()  # Changed to MSE for regression\n",
        "optimizer = torch.optim.Adam(model.parameters(), lr=0.01)"
      ],
      "metadata": {
        "id": "x2il69ENZwkG"
      },
      "execution_count": null,
      "outputs": []
    },
    {
      "cell_type": "code",
      "source": [
        "#Training loop\n",
        "epochs = 2000\n",
        "losses = []\n",
        "for i in range(epochs):\n",
        "    y_pred = model(X_train)\n",
        "    loss = criterion(y_pred, y_train)\n",
        "    losses.append(loss.item())\n",
        "    if i % 100 == 0:\n",
        "        #print(y_pred)\n",
        "        print(f'Epoch: {i}\\t and loss: {loss.item()}')\n",
        "    optimizer.zero_grad()\n",
        "    loss.backward()\n",
        "    optimizer.step()\n"
      ],
      "metadata": {
        "colab": {
          "base_uri": "https://localhost:8080/"
        },
        "id": "pqKAaE_8Zzkp",
        "outputId": "8e4c04be-2d4d-4eb2-9d86-1487c1dcbc2c"
      },
      "execution_count": null,
      "outputs": [
        {
          "output_type": "stream",
          "name": "stdout",
          "text": [
            "Epoch: 0 and loss: 44390776832.0\n",
            "Epoch: 100 and loss: 1672294016.0\n",
            "Epoch: 200 and loss: 190215184.0\n",
            "Epoch: 300 and loss: 77932824.0\n",
            "Epoch: 400 and loss: 43809384.0\n",
            "Epoch: 500 and loss: 34707988.0\n",
            "Epoch: 600 and loss: 32426776.0\n",
            "Epoch: 700 and loss: 31668540.0\n",
            "Epoch: 800 and loss: 31312502.0\n",
            "Epoch: 900 and loss: 31098158.0\n",
            "Epoch: 1000 and loss: 30960762.0\n",
            "Epoch: 1100 and loss: 30871644.0\n",
            "Epoch: 1200 and loss: 30811724.0\n",
            "Epoch: 1300 and loss: 30770486.0\n",
            "Epoch: 1400 and loss: 30740476.0\n",
            "Epoch: 1500 and loss: 30717692.0\n",
            "Epoch: 1600 and loss: 30701416.0\n",
            "Epoch: 1700 and loss: 30688600.0\n",
            "Epoch: 1800 and loss: 30678976.0\n",
            "Epoch: 1900 and loss: 30671842.0\n"
          ]
        }
      ]
    },
    {
      "cell_type": "code",
      "source": [
        "#Model evaluation\n",
        "print(model_type)\n",
        "thresh = 4 #percentage threshold of allowed error to check beyond\n",
        "count = 0\n",
        "cum_diff = 0\n",
        "cum_diff_percent = 0\n",
        "errors_percent = []\n",
        "max_percent_error = 0\n",
        "model.eval()  # Set the model to evaluation mode\n",
        "with torch.no_grad():\n",
        "    y_eval = model(X_test)\n",
        "    loss = criterion(y_eval, y_test)\n",
        "    print(f'Test Loss: {loss.item()}\\n')\n",
        "\n",
        "    for i in range(len(y_eval)):\n",
        "      #print(\"eval\", y_eval[i], \"\\n test\", y_test[i], \"\\n difference\", y_eval[i] - y_test[i])\n",
        "      diff = (int(y_eval[i]) - int(y_test[i]))\n",
        "      if (diff < 0):\n",
        "          diff = -diff\n",
        "      percent_diff = 100 * (diff / int(y_test[i]))\n",
        "      cum_diff += diff\n",
        "      cum_diff_percent += percent_diff\n",
        "      errors_percent.append(percent_diff)\n",
        "      if(percent_diff > thresh):\n",
        "          #print(\"eval\", y_eval[i], \"\\n test\", y_test[i], \"\\n difference\", y_eval[i] - y_test[i])\n",
        "          count = count + 1\n",
        "      if(percent_diff > max_percent_error):\n",
        "         max_percent_error = percent_diff\n",
        "    print(\"threshold =\", thresh, \"%\")\n",
        "    #print(\"count beyond thresh =\", count, \"ratio =\", count/len(y_eval))\n",
        "    print(\"ratio within thresh =\", 1 - count/len(y_eval))\n",
        "    print(\"highest percent error =\", max_percent_error)\n",
        "    print(\"avg error =\", cum_diff / len(y_eval))\n",
        "    print(\"avg percent error =\", cum_diff_percent / len(y_eval))\n",
        "    df_eval = pd.DataFrame({\"percent_error\": errors_percent})\n",
        "    ax = df_eval.plot.hist()"
      ],
      "metadata": {
        "colab": {
          "base_uri": "https://localhost:8080/",
          "height": 577
        },
        "id": "dAgth-Xka1wr",
        "outputId": "32938be8-8817-4501-bcfd-839400ffbb63"
      },
      "execution_count": null,
      "outputs": [
        {
          "output_type": "stream",
          "name": "stdout",
          "text": [
            "Linear\n",
            "Test Loss: 31065462.0\n",
            "\n",
            "threshold = 4 %\n",
            "ratio within thresh = 0.9079468325791855\n",
            "highest percent error = 6.813543973254436\n",
            "avg error = 4045.4534502262445\n",
            "avg percent error = 2.02088739724462\n"
          ]
        },
        {
          "output_type": "display_data",
          "data": {
            "text/plain": [
              "<Figure size 640x480 with 1 Axes>"
            ],
            "image/png": "[encoded data removed]"
          },
          "metadata": {}
        }
      ]
    },
    {
      "cell_type": "code",
      "source": [
        "#Save the trained model\n",
        "torch.save(model.state_dict(), 'trained_model.pt')"
      ],
      "metadata": {
        "id": "Gs5tml2Ra4Wh"
      },
      "execution_count": null,
      "outputs": []
    }
  ]
}