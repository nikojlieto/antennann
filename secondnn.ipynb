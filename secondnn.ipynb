{
  "nbformat": 4,
  "nbformat_minor": 0,
  "metadata": {
    "colab": {
      "provenance": []
    },
    "kernelspec": {
      "name": "python3",
      "display_name": "Python 3"
    },
    "language_info": {
      "name": "python"
    }
  },
  "cells": [
    {
      "cell_type": "code",
      "source": [
        "import torch\n",
        "import torch.nn as nn\n",
        "import pandas as pd\n",
        "import numpy as np\n",
        "from sklearn.model_selection import train_test_split"
      ],
      "metadata": {
        "id": "kVXdSXdNZS42"
      },
      "execution_count": 42,
      "outputs": []
    },
    {
      "cell_type": "code",
      "source": [
        "#Model definition\n",
        "class Model(nn.Module):\n",
        "    def __init__(self, output_features=1, input_features=2, l1=9, l2=10):\n",
        "        super(Model, self).__init__()\n",
        "        self.fc1 = nn.Linear(input_features, l1)\n",
        "        self.fc2 = nn.Linear(l1, l2)\n",
        "        self.out1 = nn.Linear(l2, output_features)\n",
        "    def forward(self, x):\n",
        "        x = torch.relu(self.fc1(x))\n",
        "        x = torch.relu(self.fc2(x))\n",
        "        x = self.out1(x)\n",
        "        return x"
      ],
      "metadata": {
        "id": "xDsGbeH7ZgxB"
      },
      "execution_count": 43,
      "outputs": []
    },
    {
      "cell_type": "code",
      "source": [
        "#Load data\n",
        "githuburl = \"https://github.com/nikojlieto/antennann/raw/main/data/5tags-circle-antennasweep%20(calculations%20included).csv\"\n",
        "my_df = pd.read_csv(githuburl)"
      ],
      "metadata": {
        "id": "_bNaOIT8Zpu-"
      },
      "execution_count": 47,
      "outputs": []
    },
    {
      "cell_type": "code",
      "source": [
        "list(my_df.columns)"
      ],
      "metadata": {
        "colab": {
          "base_uri": "https://localhost:8080/"
        },
        "id": "vOZPv3fVnlz1",
        "outputId": "37745b80-678a-4890-ed77-27b755a84b0c"
      },
      "execution_count": 48,
      "outputs": [
        {
          "output_type": "execute_result",
          "data": {
            "text/plain": [
              "['id',\n",
              " 'absolute_timestamp',\n",
              " 'relative_timestamp',\n",
              " 'interrogator_timestamp',\n",
              " 'freeform',\n",
              " 'rssi',\n",
              " 'epc96',\n",
              " 'doppler',\n",
              " 'phase',\n",
              " 'antenna',\n",
              " 'rospecid',\n",
              " 'channelindex',\n",
              " 'tagseencount',\n",
              " 'accessspecid',\n",
              " 'inventoryparameterspecid',\n",
              " 'lastseentimestamp',\n",
              " 'antennastate',\n",
              " 'radial distance (m)',\n",
              " 'time (seconds)',\n",
              " 'doppler ()',\n",
              " 'interrogation frequency (Hz)',\n",
              " 'phase (radians)',\n",
              " 'prxval ()',\n",
              " 'prx deoscillated moving parts ()',\n",
              " 'prx moving parts ()',\n",
              " 'prx linear ()',\n",
              " 'wavelength ()',\n",
              " 'capital R',\n",
              " 'interrogation frequency (MHz)',\n",
              " 'capital R (from MHz)',\n",
              " 'New R from Prx',\n",
              " 'New R from RSSI']"
            ]
          },
          "metadata": {},
          "execution_count": 48
        }
      ]
    },
    {
      "cell_type": "code",
      "source": [
        "#Data preparation\n",
        "input_columns = ['phase (radians)', 'prxval ()']\n",
        "X = my_df[input_columns].values\n",
        "output_columns = ['New R from Prx']\n",
        "y = my_df[output_columns].values\n",
        "\n",
        "X_train, X_test, y_train, y_test = train_test_split(X, y, test_size=0.3, random_state=4)\n",
        "\n",
        "X_train = torch.FloatTensor(X_train)\n",
        "X_test = torch.FloatTensor(X_test)\n",
        "y_train = torch.FloatTensor(y_train)\n",
        "y_test = torch.FloatTensor(y_test)"
      ],
      "metadata": {
        "id": "-F739YU8Zr57",
        "colab": {
          "base_uri": "https://localhost:8080/",
          "height": 373
        },
        "outputId": "5526b846-42be-4db7-c917-51e024c17ce6"
      },
      "execution_count": 46,
      "outputs": [
        {
          "output_type": "error",
          "ename": "KeyError",
          "evalue": "\"None of [Index(['New R from Prx'], dtype='object')] are in the [columns]\"",
          "traceback": [
            "\u001b[0;31m---------------------------------------------------------------------------\u001b[0m",
            "\u001b[0;31mKeyError\u001b[0m                                  Traceback (most recent call last)",
            "\u001b[0;32m<ipython-input-46-d9ca4bbf7d85>\u001b[0m in \u001b[0;36m<cell line: 5>\u001b[0;34m()\u001b[0m\n\u001b[1;32m      3\u001b[0m \u001b[0mX\u001b[0m \u001b[0;34m=\u001b[0m \u001b[0mmy_df\u001b[0m\u001b[0;34m[\u001b[0m\u001b[0minput_columns\u001b[0m\u001b[0;34m]\u001b[0m\u001b[0;34m.\u001b[0m\u001b[0mvalues\u001b[0m\u001b[0;34m\u001b[0m\u001b[0;34m\u001b[0m\u001b[0m\n\u001b[1;32m      4\u001b[0m \u001b[0moutput_columns\u001b[0m \u001b[0;34m=\u001b[0m \u001b[0;34m[\u001b[0m\u001b[0;34m'New R from Prx'\u001b[0m\u001b[0;34m]\u001b[0m\u001b[0;34m\u001b[0m\u001b[0;34m\u001b[0m\u001b[0m\n\u001b[0;32m----> 5\u001b[0;31m \u001b[0my\u001b[0m \u001b[0;34m=\u001b[0m \u001b[0mmy_df\u001b[0m\u001b[0;34m[\u001b[0m\u001b[0moutput_columns\u001b[0m\u001b[0;34m]\u001b[0m\u001b[0;34m.\u001b[0m\u001b[0mvalues\u001b[0m\u001b[0;34m\u001b[0m\u001b[0;34m\u001b[0m\u001b[0m\n\u001b[0m\u001b[1;32m      6\u001b[0m \u001b[0;34m\u001b[0m\u001b[0m\n\u001b[1;32m      7\u001b[0m \u001b[0mX_train\u001b[0m\u001b[0;34m,\u001b[0m \u001b[0mX_test\u001b[0m\u001b[0;34m,\u001b[0m \u001b[0my_train\u001b[0m\u001b[0;34m,\u001b[0m \u001b[0my_test\u001b[0m \u001b[0;34m=\u001b[0m \u001b[0mtrain_test_split\u001b[0m\u001b[0;34m(\u001b[0m\u001b[0mX\u001b[0m\u001b[0;34m,\u001b[0m \u001b[0my\u001b[0m\u001b[0;34m,\u001b[0m \u001b[0mtest_size\u001b[0m\u001b[0;34m=\u001b[0m\u001b[0;36m0.3\u001b[0m\u001b[0;34m,\u001b[0m \u001b[0mrandom_state\u001b[0m\u001b[0;34m=\u001b[0m\u001b[0;36m4\u001b[0m\u001b[0;34m)\u001b[0m\u001b[0;34m\u001b[0m\u001b[0;34m\u001b[0m\u001b[0m\n",
            "\u001b[0;32m/usr/local/lib/python3.10/dist-packages/pandas/core/frame.py\u001b[0m in \u001b[0;36m__getitem__\u001b[0;34m(self, key)\u001b[0m\n\u001b[1;32m   3811\u001b[0m             \u001b[0;32mif\u001b[0m \u001b[0mis_iterator\u001b[0m\u001b[0;34m(\u001b[0m\u001b[0mkey\u001b[0m\u001b[0;34m)\u001b[0m\u001b[0;34m:\u001b[0m\u001b[0;34m\u001b[0m\u001b[0;34m\u001b[0m\u001b[0m\n\u001b[1;32m   3812\u001b[0m                 \u001b[0mkey\u001b[0m \u001b[0;34m=\u001b[0m \u001b[0mlist\u001b[0m\u001b[0;34m(\u001b[0m\u001b[0mkey\u001b[0m\u001b[0;34m)\u001b[0m\u001b[0;34m\u001b[0m\u001b[0;34m\u001b[0m\u001b[0m\n\u001b[0;32m-> 3813\u001b[0;31m             \u001b[0mindexer\u001b[0m \u001b[0;34m=\u001b[0m \u001b[0mself\u001b[0m\u001b[0;34m.\u001b[0m\u001b[0mcolumns\u001b[0m\u001b[0;34m.\u001b[0m\u001b[0m_get_indexer_strict\u001b[0m\u001b[0;34m(\u001b[0m\u001b[0mkey\u001b[0m\u001b[0;34m,\u001b[0m \u001b[0;34m\"columns\"\u001b[0m\u001b[0;34m)\u001b[0m\u001b[0;34m[\u001b[0m\u001b[0;36m1\u001b[0m\u001b[0;34m]\u001b[0m\u001b[0;34m\u001b[0m\u001b[0;34m\u001b[0m\u001b[0m\n\u001b[0m\u001b[1;32m   3814\u001b[0m \u001b[0;34m\u001b[0m\u001b[0m\n\u001b[1;32m   3815\u001b[0m         \u001b[0;31m# take() does not accept boolean indexers\u001b[0m\u001b[0;34m\u001b[0m\u001b[0;34m\u001b[0m\u001b[0m\n",
            "\u001b[0;32m/usr/local/lib/python3.10/dist-packages/pandas/core/indexes/base.py\u001b[0m in \u001b[0;36m_get_indexer_strict\u001b[0;34m(self, key, axis_name)\u001b[0m\n\u001b[1;32m   6068\u001b[0m             \u001b[0mkeyarr\u001b[0m\u001b[0;34m,\u001b[0m \u001b[0mindexer\u001b[0m\u001b[0;34m,\u001b[0m \u001b[0mnew_indexer\u001b[0m \u001b[0;34m=\u001b[0m \u001b[0mself\u001b[0m\u001b[0;34m.\u001b[0m\u001b[0m_reindex_non_unique\u001b[0m\u001b[0;34m(\u001b[0m\u001b[0mkeyarr\u001b[0m\u001b[0;34m)\u001b[0m\u001b[0;34m\u001b[0m\u001b[0;34m\u001b[0m\u001b[0m\n\u001b[1;32m   6069\u001b[0m \u001b[0;34m\u001b[0m\u001b[0m\n\u001b[0;32m-> 6070\u001b[0;31m         \u001b[0mself\u001b[0m\u001b[0;34m.\u001b[0m\u001b[0m_raise_if_missing\u001b[0m\u001b[0;34m(\u001b[0m\u001b[0mkeyarr\u001b[0m\u001b[0;34m,\u001b[0m \u001b[0mindexer\u001b[0m\u001b[0;34m,\u001b[0m \u001b[0maxis_name\u001b[0m\u001b[0;34m)\u001b[0m\u001b[0;34m\u001b[0m\u001b[0;34m\u001b[0m\u001b[0m\n\u001b[0m\u001b[1;32m   6071\u001b[0m \u001b[0;34m\u001b[0m\u001b[0m\n\u001b[1;32m   6072\u001b[0m         \u001b[0mkeyarr\u001b[0m \u001b[0;34m=\u001b[0m \u001b[0mself\u001b[0m\u001b[0;34m.\u001b[0m\u001b[0mtake\u001b[0m\u001b[0;34m(\u001b[0m\u001b[0mindexer\u001b[0m\u001b[0;34m)\u001b[0m\u001b[0;34m\u001b[0m\u001b[0;34m\u001b[0m\u001b[0m\n",
            "\u001b[0;32m/usr/local/lib/python3.10/dist-packages/pandas/core/indexes/base.py\u001b[0m in \u001b[0;36m_raise_if_missing\u001b[0;34m(self, key, indexer, axis_name)\u001b[0m\n\u001b[1;32m   6128\u001b[0m                 \u001b[0;32mif\u001b[0m \u001b[0muse_interval_msg\u001b[0m\u001b[0;34m:\u001b[0m\u001b[0;34m\u001b[0m\u001b[0;34m\u001b[0m\u001b[0m\n\u001b[1;32m   6129\u001b[0m                     \u001b[0mkey\u001b[0m \u001b[0;34m=\u001b[0m \u001b[0mlist\u001b[0m\u001b[0;34m(\u001b[0m\u001b[0mkey\u001b[0m\u001b[0;34m)\u001b[0m\u001b[0;34m\u001b[0m\u001b[0;34m\u001b[0m\u001b[0m\n\u001b[0;32m-> 6130\u001b[0;31m                 \u001b[0;32mraise\u001b[0m \u001b[0mKeyError\u001b[0m\u001b[0;34m(\u001b[0m\u001b[0;34mf\"None of [{key}] are in the [{axis_name}]\"\u001b[0m\u001b[0;34m)\u001b[0m\u001b[0;34m\u001b[0m\u001b[0;34m\u001b[0m\u001b[0m\n\u001b[0m\u001b[1;32m   6131\u001b[0m \u001b[0;34m\u001b[0m\u001b[0m\n\u001b[1;32m   6132\u001b[0m             \u001b[0mnot_found\u001b[0m \u001b[0;34m=\u001b[0m \u001b[0mlist\u001b[0m\u001b[0;34m(\u001b[0m\u001b[0mensure_index\u001b[0m\u001b[0;34m(\u001b[0m\u001b[0mkey\u001b[0m\u001b[0;34m)\u001b[0m\u001b[0;34m[\u001b[0m\u001b[0mmissing_mask\u001b[0m\u001b[0;34m.\u001b[0m\u001b[0mnonzero\u001b[0m\u001b[0;34m(\u001b[0m\u001b[0;34m)\u001b[0m\u001b[0;34m[\u001b[0m\u001b[0;36m0\u001b[0m\u001b[0;34m]\u001b[0m\u001b[0;34m]\u001b[0m\u001b[0;34m.\u001b[0m\u001b[0munique\u001b[0m\u001b[0;34m(\u001b[0m\u001b[0;34m)\u001b[0m\u001b[0;34m)\u001b[0m\u001b[0;34m\u001b[0m\u001b[0;34m\u001b[0m\u001b[0m\n",
            "\u001b[0;31mKeyError\u001b[0m: \"None of [Index(['New R from Prx'], dtype='object')] are in the [columns]\""
          ]
        }
      ]
    },
    {
      "cell_type": "code",
      "source": [],
      "metadata": {
        "id": "9I2anjmcrL80"
      },
      "execution_count": null,
      "outputs": []
    },
    {
      "cell_type": "code",
      "source": [
        "#Model instantiation\n",
        "model = Model(output_features=1, input_features=len(input_columns))\n",
        "criterion = nn.MSELoss()  # Changed to MSE for regression\n",
        "optimizer = torch.optim.Adam(model.parameters(), lr=0.01)"
      ],
      "metadata": {
        "id": "x2il69ENZwkG"
      },
      "execution_count": null,
      "outputs": []
    },
    {
      "cell_type": "code",
      "source": [
        "#Training loop\n",
        "epochs = 100\n",
        "losses = []\n",
        "for i in range(epochs):\n",
        "    y_pred = model(X_train)\n",
        "    loss = criterion(y_pred, y_train)\n",
        "    losses.append(loss.item())\n",
        "    if i % 10 == 0:\n",
        "        print(y_pred)\n",
        "        print(f'Epoch: {i} and loss: {loss.item()}')\n",
        "    optimizer.zero_grad()\n",
        "    loss.backward()\n",
        "    optimizer.step()\n"
      ],
      "metadata": {
        "colab": {
          "base_uri": "https://localhost:8080/"
        },
        "id": "pqKAaE_8Zzkp",
        "outputId": "3657586c-827f-486c-e80c-69981dc2936e"
      },
      "execution_count": null,
      "outputs": [
        {
          "output_type": "stream",
          "name": "stdout",
          "text": [
            "tensor([[1200.3059],\n",
            "        [1144.0338],\n",
            "        [1449.8485],\n",
            "        ...,\n",
            "        [1617.0361],\n",
            "        [3075.1956],\n",
            "        [1283.2811]], grad_fn=<AddmmBackward0>)\n",
            "Epoch: 0 and loss: 2.896399786988976e+30\n",
            "tensor([[1694.6335],\n",
            "        [1614.9143],\n",
            "        [2046.9689],\n",
            "        ...,\n",
            "        [2282.9539],\n",
            "        [4338.0298],\n",
            "        [1811.4238]], grad_fn=<AddmmBackward0>)\n",
            "Epoch: 10 and loss: 2.896399786988976e+30\n",
            "tensor([[2320.5620],\n",
            "        [2211.0669],\n",
            "        [2803.0759],\n",
            "        ...,\n",
            "        [3126.1650],\n",
            "        [5936.0396],\n",
            "        [2480.0649]], grad_fn=<AddmmBackward0>)\n",
            "Epoch: 20 and loss: 2.896399786988976e+30\n",
            "tensor([[3095.8572],\n",
            "        [2949.3894],\n",
            "        [3739.6375],\n",
            "        ...,\n",
            "        [4170.6079],\n",
            "        [7914.3257],\n",
            "        [3308.1548]], grad_fn=<AddmmBackward0>)\n",
            "Epoch: 30 and loss: 2.896399786988976e+30\n",
            "tensor([[ 4038.3813],\n",
            "        [ 3846.8713],\n",
            "        [ 4878.2358],\n",
            "        ...,\n",
            "        [ 5440.3496],\n",
            "        [10318.2295],\n",
            "        [ 4314.7471]], grad_fn=<AddmmBackward0>)\n",
            "Epoch: 40 and loss: 2.896399786988976e+30\n",
            "tensor([[ 5166.0132],\n",
            "        [ 4920.5176],\n",
            "        [ 6240.4761],\n",
            "        ...,\n",
            "        [ 6959.4824],\n",
            "        [13193.1309],\n",
            "        [ 5518.9131]], grad_fn=<AddmmBackward0>)\n",
            "Epoch: 50 and loss: 2.896399786988976e+30\n",
            "tensor([[ 6496.5796],\n",
            "        [ 6187.2817],\n",
            "        [ 7847.8994],\n",
            "        ...,\n",
            "        [ 8752.0264],\n",
            "        [16584.2715],\n",
            "        [ 6939.6680]], grad_fn=<AddmmBackward0>)\n",
            "Epoch: 60 and loss: 2.896399786988976e+30\n",
            "tensor([[ 8047.8223],\n",
            "        [ 7664.0371],\n",
            "        [ 9721.9434],\n",
            "        ...,\n",
            "        [10841.8838],\n",
            "        [20536.6719],\n",
            "        [ 8595.9336]], grad_fn=<AddmmBackward0>)\n",
            "Epoch: 70 and loss: 2.896399786988976e+30\n",
            "tensor([[ 9837.3574],\n",
            "        [ 9367.5410],\n",
            "        [11883.8955],\n",
            "        ...,\n",
            "        [13252.7959],\n",
            "        [25095.0469],\n",
            "        [10506.5020]], grad_fn=<AddmmBackward0>)\n",
            "Epoch: 80 and loss: 2.896399786988976e+30\n",
            "tensor([[11882.6582],\n",
            "        [11314.4053],\n",
            "        [14354.8662],\n",
            "        ...,\n",
            "        [16008.3008],\n",
            "        [30303.7090],\n",
            "        [12690.0068]], grad_fn=<AddmmBackward0>)\n",
            "Epoch: 90 and loss: 2.896399786988976e+30\n"
          ]
        }
      ]
    },
    {
      "cell_type": "code",
      "source": [
        "#Model evaluation\n",
        "model.eval()  # Set the model to evaluation mode\n",
        "with torch.no_grad():\n",
        "    y_eval = model(X_test)\n",
        "    loss = criterion(y_eval, y_test)\n",
        "    print(f'Test Loss: {loss.item()}')"
      ],
      "metadata": {
        "colab": {
          "base_uri": "https://localhost:8080/"
        },
        "id": "dAgth-Xka1wr",
        "outputId": "825cbf84-2d27-4195-d591-9a787d2446a2"
      },
      "execution_count": null,
      "outputs": [
        {
          "output_type": "stream",
          "name": "stdout",
          "text": [
            "Test Loss: 2.911350270368695e+30\n"
          ]
        }
      ]
    },
    {
      "cell_type": "code",
      "source": [
        "#Save the trained model\n",
        "torch.save(model.state_dict(), 'trained_model.pt')"
      ],
      "metadata": {
        "id": "Gs5tml2Ra4Wh"
      },
      "execution_count": null,
      "outputs": []
    }
  ]
}