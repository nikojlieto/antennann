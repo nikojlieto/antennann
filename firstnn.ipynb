{
  "nbformat": 4,
  "nbformat_minor": 0,
  "metadata": {
    "colab": {
      "provenance": [],
      "authorship_tag": "ABX9TyO1DFc3tsTPKl8UaPbDoqD8",
      "include_colab_link": true
    },
    "kernelspec": {
      "name": "python3",
      "display_name": "Python 3"
    },
    "language_info": {
      "name": "python"
    }
  },
  "cells": [
    {
      "cell_type": "markdown",
      "metadata": {
        "id": "view-in-github",
        "colab_type": "text"
      },
      "source": [
        "<a href=\"https://colab.research.google.com/github/nikojlieto/firstnn/blob/main/firstnn.ipynb\" target=\"_parent\"><img src=\"https://colab.research.google.com/assets/colab-badge.svg\" alt=\"Open In Colab\"/></a>"
      ]
    },
    {
      "cell_type": "code",
      "execution_count": null,
      "metadata": {
        "id": "gZ88XvNjBvQR"
      },
      "outputs": [],
      "source": [
        "import torch\n",
        "import torch.nn as nn\n",
        "#helps move data forwards in the function\n",
        "import torch.nn.functional as F"
      ]
    },
    {
      "cell_type": "code",
      "source": [
        "#model class inherits nn.Module\n",
        "class Model(nn.Module):\n",
        "  #input layer (antennastate, prxetc, phaserads)\n",
        "  #hidden layer 1 (some neurons)\n",
        "  #hidden layer 2 (some neurons)\n",
        "  #output (x and y)\n",
        "  def __init__(self, input_features=3, l1 = 10, l2 = 10, output_features=2):\n",
        "    #instantiate nn.module\n",
        "    super().__init__()\n",
        "    out_x = 0\n",
        "    out_y = 0\n",
        "    #fc = fully connected\n",
        "    self.fc1 = nn.Linear(input_features, l1)\n",
        "    self.fc2 = nn.Linear(l1, l2)\n",
        "    self.out = nn.Linear(l2, output_features)\n",
        "\n",
        "    #training data labels - mark categories with likelihood percents\n",
        "    #argmax(label) = category with most likelihood\n",
        "    #for no categories feed in x and y coordinates for each sample\n",
        "\n",
        "\n",
        "  def forward(self, x):\n",
        "    #relu = rectified linear unit\n",
        "    #if output < 0, correct to zero\n",
        "    x = F.relu(self.fc1(x))\n",
        "    x = F.relu(self.fc2(x))\n",
        "    x = self.out(x)\n",
        "\n",
        "    return x"
      ],
      "metadata": {
        "id": "bVHTmczSClIP"
      },
      "execution_count": null,
      "outputs": []
    },
    {
      "cell_type": "code",
      "source": [
        "#manual seed for randomization\n",
        "torch.manual_seed(4)\n",
        "#create an instance of model\n",
        "model = Model()"
      ],
      "metadata": {
        "colab": {
          "base_uri": "https://localhost:8080/"
        },
        "id": "aXFeDto2gItr",
        "outputId": "89b382e5-4c00-487f-bc99-b2229a4d2cac"
      },
      "execution_count": null,
      "outputs": [
        {
          "output_type": "stream",
          "name": "stderr",
          "text": [
            "/usr/local/lib/python3.10/dist-packages/torch/nn/init.py:412: UserWarning: Initializing zero-element tensors is a no-op\n",
            "  warnings.warn(\"Initializing zero-element tensors is a no-op\")\n"
          ]
        }
      ]
    }
  ]
}