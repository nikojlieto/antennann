{
  "nbformat": 4,
  "nbformat_minor": 0,
  "metadata": {
    "colab": {
      "provenance": []
    },
    "kernelspec": {
      "name": "python3",
      "display_name": "Python 3"
    },
    "language_info": {
      "name": "python"
    }
  },
  "cells": [
    {
      "cell_type": "code",
      "source": [
        "import torch\n",
        "import torch.nn as nn\n",
        "import torch.nn.functional as F\n",
        "import pandas as pd\n",
        "import numpy as np\n",
        "from sklearn.model_selection import train_test_split"
      ],
      "metadata": {
        "id": "kVXdSXdNZS42"
      },
      "execution_count": 1,
      "outputs": []
    },
    {
      "cell_type": "code",
      "source": [
        "#convolutional model\n",
        "class ConvModel(nn.Module):\n",
        "    def __init__(self, output_features=1, input_channels=4, conv_out_channels=16, l2=10, l3=8, kernel_size=3, input_size=28):\n",
        "        super(ConvModel, self).__init__()\n",
        "        # Convolutional layer\n",
        "        self.conv1 = nn.Conv1d(input_channels, conv_out_channels, kernel_size=kernel_size)\n",
        "        # Calculate the size after convolution (simplified calculation assuming stride=1 and padding=0)\n",
        "        conv_output_size = input_size - kernel_size + 1\n",
        "        # Fully connected layer after flattening the conv output\n",
        "        #self.fc1 = nn.Linear(conv_out_channels * (conv_output_size ** 2), output_features)\n",
        "        self.fc1 = nn.Linear(conv_out_channels, l2)\n",
        "        self.fc2 = nn.Linear(l2, l3)\n",
        "\n",
        "        self.out = nn.Linear(l3, output_features)\n",
        "    def forward(self, x):\n",
        "        # Apply convolution\n",
        "        x = F.relu(self.conv1(x))\n",
        "        # Flatten the output for the fully connected layer\n",
        "        x = x.view(x.size(0), -1)\n",
        "        # Output layer\n",
        "        x = self.fc1(x)\n",
        "        x = F.relu(self.fc2(x))\n",
        "\n",
        "        x = F.relu(self.out(x))\n",
        "        return x"
      ],
      "metadata": {
        "id": "xDsGbeH7ZgxB"
      },
      "execution_count": null,
      "outputs": []
    },
    {
      "cell_type": "code",
      "source": [
        "#pure linear model\n",
        "class LinearModel(nn.Module):\n",
        "    def __init__(self, output_features=1, input_features=2, l1=9, l2=10, l3=15, l4=12):\n",
        "        super(LinearModel, self).__init__()\n",
        "\n",
        "        self.fc1 = nn.Linear(input_features, l1)\n",
        "        self.fc2 = nn.Linear(l1, l2)\n",
        "        self.fc3 = nn.Linear(l2, l3)\n",
        "        self.fc4 = nn.Linear(l3, l4)\n",
        "\n",
        "        self.out1 = nn.Linear(l4, output_features)\n",
        "\n",
        "    def forward(self, x):\n",
        "        x = F.relu(self.fc1(x))\n",
        "        x = F.relu(self.fc2(x))\n",
        "        x = F.relu(self.fc3(x))\n",
        "        x = F.relu(self.fc4(x))\n",
        "\n",
        "        x = self.out1(x)\n",
        "        return x"
      ],
      "metadata": {
        "id": "yjftuZ-8sLqk"
      },
      "execution_count": null,
      "outputs": []
    },
    {
      "cell_type": "code",
      "source": [
        "#Load data\n",
        "githuburl = \"https://github.com/nikojlieto/antennann/raw/main/data/5tags-circle-antennasweep%20(calculations%20included).csv\"\n",
        "my_df = pd.read_csv(githuburl)"
      ],
      "metadata": {
        "id": "_bNaOIT8Zpu-"
      },
      "execution_count": null,
      "outputs": []
    },
    {
      "cell_type": "code",
      "source": [
        "list(my_df.columns)"
      ],
      "metadata": {
        "id": "vOZPv3fVnlz1"
      },
      "execution_count": null,
      "outputs": []
    },
    {
      "cell_type": "code",
      "source": [
        "#tmp\n",
        "#print(new_X)"
      ],
      "metadata": {
        "id": "nTS3pa59-Oq-"
      },
      "execution_count": null,
      "outputs": []
    },
    {
      "cell_type": "code",
      "source": [
        "#Data preparation\n",
        "#input to be placed in X\n",
        "model_type = \"Conv\"\n",
        "num_scans = 4\n",
        "\n",
        "input_columns = ['phase (radians)', 'prx deoscillated moving parts ()', 'doppler ()']\n",
        "X = my_df[input_columns].values\n",
        "#output to be placed in y\n",
        "output_columns = ['New R from Prx']\n",
        "y = my_df[output_columns].values\n",
        "tags = my_df['epc96'].values\n",
        "#select model to use\n",
        "\n",
        "if model_type == \"Conv\":\n",
        "    #setup X and y for Conv net\n",
        "    #using slices of scans on the same tag\n",
        "    new_X = []\n",
        "    new_y = []\n",
        "    i = 0\n",
        "    while((i+num_scans-1) < len(my_df)):\n",
        "        if(tags[i] == tags[i+(num_scans - 1)]):\n",
        "            new_X.append(X[i:i+num_scans])\n",
        "            #new_y.append(y[i:i+num_scans])\n",
        "            new_y.append(y[i+num_scans-1])\n",
        "        i += 1\n",
        "        #i += num_scans\n",
        "    X = np.array(new_X)\n",
        "    #take avg here for each sample\n",
        "    y = np.array(new_y)\n",
        "\n",
        "    print(\"number of samples=\", len(y), \"\\nscans per sample =\", num_scans)\n",
        "\n",
        "elif model_type == \"Linear\":\n",
        "    pass\n",
        "X_train, X_test, y_train, y_test = train_test_split(X, y, test_size=0.3, random_state=4)\n",
        "\n",
        "X_train = torch.FloatTensor(X_train)\n",
        "X_test = torch.FloatTensor(X_test)\n",
        "y_train = torch.FloatTensor(y_train)\n",
        "y_test = torch.FloatTensor(y_test)\n",
        "\n",
        "#print(X_train)\n",
        "#print(y_train)"
      ],
      "metadata": {
        "id": "-F739YU8Zr57",
        "colab": {
          "base_uri": "https://localhost:8080/"
        },
        "outputId": "72a5c766-eb53-4f90-e041-041a45540623"
      },
      "execution_count": null,
      "outputs": [
        {
          "output_type": "stream",
          "name": "stdout",
          "text": [
            "number of samples= 49869 \n",
            "scans per sample = 4\n"
          ]
        }
      ]
    },
    {
      "cell_type": "code",
      "source": [
        "#Model instantiation\n",
        "\n",
        "if model_type == \"Linear\":\n",
        "    model = LinearModel(output_features=1, input_features=len(input_columns))\n",
        "elif model_type == \"Conv\":\n",
        "    model = ConvModel(output_features=1, input_channels=num_scans, conv_out_channels=num_scans**2)\n",
        "\n",
        "\n",
        "criterion = nn.MSELoss()  # Changed to MSE for regression\n",
        "optimizer = torch.optim.Adam(model.parameters(), lr=0.01)"
      ],
      "metadata": {
        "id": "x2il69ENZwkG"
      },
      "execution_count": null,
      "outputs": []
    },
    {
      "cell_type": "code",
      "source": [
        "#Training loop\n",
        "\n",
        "epochs = 2000\n",
        "losses = []\n",
        "for i in range(epochs):\n",
        "    y_pred = model(X_train)\n",
        "    #print(y_pred)\n",
        "    #print(y_train)\n",
        "    loss = criterion(y_pred, y_train)\n",
        "    losses.append(loss.item())\n",
        "    if i % 100 == 0:\n",
        "        #print(y_pred)\n",
        "        print(f'Epoch: {i}\\t and loss: {np.format_float_scientific(loss.item(), precision=6, unique=False)}')\n",
        "    optimizer.zero_grad()\n",
        "    loss.backward()\n",
        "    optimizer.step()\n",
        "print(f'Epoch: {i}\\t and loss: {np.format_float_scientific(loss.item(), precision=3, unique=False)}')"
      ],
      "metadata": {
        "colab": {
          "base_uri": "https://localhost:8080/",
          "height": 649
        },
        "id": "pqKAaE_8Zzkp",
        "outputId": "db6e5b08-5c98-460a-a15c-81b84eea8c6f"
      },
      "execution_count": null,
      "outputs": [
        {
          "output_type": "stream",
          "name": "stdout",
          "text": [
            "Epoch: 0\t and loss: 2.136182e+07\n",
            "Epoch: 100\t and loss: 2.101448e+07\n",
            "Epoch: 200\t and loss: 2.069009e+07\n",
            "Epoch: 300\t and loss: 2.039205e+07\n",
            "Epoch: 400\t and loss: 2.012341e+07\n",
            "Epoch: 500\t and loss: 1.988653e+07\n",
            "Epoch: 600\t and loss: 1.968267e+07\n",
            "Epoch: 700\t and loss: 1.951164e+07\n",
            "Epoch: 800\t and loss: 1.937225e+07\n",
            "Epoch: 900\t and loss: 1.926233e+07\n",
            "Epoch: 1000\t and loss: 1.917788e+07\n",
            "Epoch: 1100\t and loss: 1.911560e+07\n",
            "Epoch: 1200\t and loss: 1.907182e+07\n",
            "Epoch: 1300\t and loss: 1.904218e+07\n"
          ]
        },
        {
          "output_type": "error",
          "ename": "KeyboardInterrupt",
          "evalue": "",
          "traceback": [
            "\u001b[0;31m---------------------------------------------------------------------------\u001b[0m",
            "\u001b[0;31mKeyboardInterrupt\u001b[0m                         Traceback (most recent call last)",
            "\u001b[0;32m<ipython-input-10-0fac80bfe88e>\u001b[0m in \u001b[0;36m<cell line: 5>\u001b[0;34m()\u001b[0m\n\u001b[1;32m     13\u001b[0m         \u001b[0mprint\u001b[0m\u001b[0;34m(\u001b[0m\u001b[0;34mf'Epoch: {i}\\t and loss: {np.format_float_scientific(loss.item(), precision=6, unique=False)}'\u001b[0m\u001b[0;34m)\u001b[0m\u001b[0;34m\u001b[0m\u001b[0;34m\u001b[0m\u001b[0m\n\u001b[1;32m     14\u001b[0m     \u001b[0moptimizer\u001b[0m\u001b[0;34m.\u001b[0m\u001b[0mzero_grad\u001b[0m\u001b[0;34m(\u001b[0m\u001b[0;34m)\u001b[0m\u001b[0;34m\u001b[0m\u001b[0;34m\u001b[0m\u001b[0m\n\u001b[0;32m---> 15\u001b[0;31m     \u001b[0mloss\u001b[0m\u001b[0;34m.\u001b[0m\u001b[0mbackward\u001b[0m\u001b[0;34m(\u001b[0m\u001b[0;34m)\u001b[0m\u001b[0;34m\u001b[0m\u001b[0;34m\u001b[0m\u001b[0m\n\u001b[0m\u001b[1;32m     16\u001b[0m     \u001b[0moptimizer\u001b[0m\u001b[0;34m.\u001b[0m\u001b[0mstep\u001b[0m\u001b[0;34m(\u001b[0m\u001b[0;34m)\u001b[0m\u001b[0;34m\u001b[0m\u001b[0;34m\u001b[0m\u001b[0m\n\u001b[1;32m     17\u001b[0m \u001b[0mprint\u001b[0m\u001b[0;34m(\u001b[0m\u001b[0;34mf'Epoch: {i}\\t and loss: {np.format_float_scientific(loss.item(), precision=3, unique=False)}'\u001b[0m\u001b[0;34m)\u001b[0m\u001b[0;34m\u001b[0m\u001b[0;34m\u001b[0m\u001b[0m\n",
            "\u001b[0;32m/usr/local/lib/python3.10/dist-packages/torch/_tensor.py\u001b[0m in \u001b[0;36mbackward\u001b[0;34m(self, gradient, retain_graph, create_graph, inputs)\u001b[0m\n\u001b[1;32m    520\u001b[0m                 \u001b[0minputs\u001b[0m\u001b[0;34m=\u001b[0m\u001b[0minputs\u001b[0m\u001b[0;34m,\u001b[0m\u001b[0;34m\u001b[0m\u001b[0;34m\u001b[0m\u001b[0m\n\u001b[1;32m    521\u001b[0m             )\n\u001b[0;32m--> 522\u001b[0;31m         torch.autograd.backward(\n\u001b[0m\u001b[1;32m    523\u001b[0m             \u001b[0mself\u001b[0m\u001b[0;34m,\u001b[0m \u001b[0mgradient\u001b[0m\u001b[0;34m,\u001b[0m \u001b[0mretain_graph\u001b[0m\u001b[0;34m,\u001b[0m \u001b[0mcreate_graph\u001b[0m\u001b[0;34m,\u001b[0m \u001b[0minputs\u001b[0m\u001b[0;34m=\u001b[0m\u001b[0minputs\u001b[0m\u001b[0;34m\u001b[0m\u001b[0;34m\u001b[0m\u001b[0m\n\u001b[1;32m    524\u001b[0m         )\n",
            "\u001b[0;32m/usr/local/lib/python3.10/dist-packages/torch/autograd/__init__.py\u001b[0m in \u001b[0;36mbackward\u001b[0;34m(tensors, grad_tensors, retain_graph, create_graph, grad_variables, inputs)\u001b[0m\n\u001b[1;32m    264\u001b[0m     \u001b[0;31m# some Python versions print out the first line of a multi-line function\u001b[0m\u001b[0;34m\u001b[0m\u001b[0;34m\u001b[0m\u001b[0m\n\u001b[1;32m    265\u001b[0m     \u001b[0;31m# calls in the traceback and some print out the last line\u001b[0m\u001b[0;34m\u001b[0m\u001b[0;34m\u001b[0m\u001b[0m\n\u001b[0;32m--> 266\u001b[0;31m     Variable._execution_engine.run_backward(  # Calls into the C++ engine to run the backward pass\n\u001b[0m\u001b[1;32m    267\u001b[0m         \u001b[0mtensors\u001b[0m\u001b[0;34m,\u001b[0m\u001b[0;34m\u001b[0m\u001b[0;34m\u001b[0m\u001b[0m\n\u001b[1;32m    268\u001b[0m         \u001b[0mgrad_tensors_\u001b[0m\u001b[0;34m,\u001b[0m\u001b[0;34m\u001b[0m\u001b[0;34m\u001b[0m\u001b[0m\n",
            "\u001b[0;31mKeyboardInterrupt\u001b[0m: "
          ]
        }
      ]
    },
    {
      "cell_type": "code",
      "source": [
        "#Model evaluation\n",
        "print(model_type)\n",
        "thresh = 4 #percentage threshold of allowed error to check beyond\n",
        "count = 0\n",
        "cum_diff = 0\n",
        "cum_diff_percent = 0\n",
        "errors_percent = []\n",
        "max_percent_error = 0\n",
        "model.eval()  # Set the model to evaluation mode\n",
        "with torch.no_grad():\n",
        "    y_eval = model(X_test)\n",
        "    loss = criterion(y_eval, y_test)\n",
        "    print(f'Test Loss: {np.format_float_scientific(loss.item(), precision=6, unique=False)}\\n')\n",
        "\n",
        "    for i in range(len(y_eval)):\n",
        "      #print(\"eval\", y_eval[i], \"\\n test\", y_test[i], \"\\n difference\", y_eval[i] - y_test[i])\n",
        "      diff = (int(y_eval[i]) - int(y_test[i]))\n",
        "      if (diff < 0):\n",
        "          diff = -diff\n",
        "      percent_diff = 100 * (diff / int(y_test[i]))\n",
        "      cum_diff += diff\n",
        "      cum_diff_percent += percent_diff\n",
        "      errors_percent.append(percent_diff)\n",
        "      if(percent_diff > thresh):\n",
        "          #print(\"eval\", y_eval[i], \"\\n test\", y_test[i], \"\\n difference\", y_eval[i] - y_test[i])\n",
        "          count = count + 1\n",
        "      if(percent_diff > max_percent_error):\n",
        "         max_percent_error = percent_diff\n",
        "    print(\"threshold =\", thresh, \"%\")\n",
        "    #print(\"count beyond thresh =\", count, \"ratio =\", count/len(y_eval))\n",
        "    print(\"ratio within thresh =\", 1 - count/len(y_eval))\n",
        "    print(\"highest percent error =\", max_percent_error)\n",
        "    print(\"avg error =\", cum_diff / len(y_eval))\n",
        "    print(\"avg percent error =\", cum_diff_percent / len(y_eval))\n",
        "    print(\"max percent error =\", max_percent_error)\n",
        "    df_eval = pd.DataFrame({\"percent_error\": errors_percent})\n",
        "    ax = df_eval.plot.hist()\n",
        "    #std deviation of 5 tag set R from prx = 97,915"
      ],
      "metadata": {
        "colab": {
          "base_uri": "https://localhost:8080/",
          "height": 595
        },
        "id": "dAgth-Xka1wr",
        "outputId": "f0474ac0-7e16-4fed-855e-0490001cddae"
      },
      "execution_count": null,
      "outputs": [
        {
          "output_type": "stream",
          "name": "stdout",
          "text": [
            "Conv\n",
            "Test Loss: 1.966156e+07\n",
            "\n",
            "threshold = 4 %\n",
            "ratio within thresh = 0.9337611122251186\n",
            "highest percent error = 8.216708975435749\n",
            "avg error = 3079.05407392554\n",
            "avg percent error = 1.9351756889674254\n",
            "max percent error = 8.216708975435749\n"
          ]
        },
        {
          "output_type": "display_data",
          "data": {
            "text/plain": [
              "<Figure size 640x480 with 1 Axes>"
            ],
            "image/png": "[encoded data removed]"
          },
          "metadata": {}
        }
      ]
    },
    {
      "cell_type": "code",
      "source": [
        "#Save the trained model\n",
        "torch.save(model.state_dict(), 'trained_model.pt')"
      ],
      "metadata": {
        "id": "Gs5tml2Ra4Wh"
      },
      "execution_count": null,
      "outputs": []
    }
  ]
}